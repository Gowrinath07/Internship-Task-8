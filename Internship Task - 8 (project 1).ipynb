{
  "nbformat": 4,
  "nbformat_minor": 0,
  "metadata": {
    "colab": {
      "provenance": []
    },
    "kernelspec": {
      "name": "python3",
      "display_name": "Python 3"
    },
    "language_info": {
      "name": "python"
    }
  },
  "cells": [
    {
      "cell_type": "code",
      "source": [
        "import pandas as pd\n",
        "import numpy as np\n",
        "from sklearn.model_selection import train_test_split, GridSearchCV\n",
        "from sklearn.ensemble import RandomForestClassifier\n",
        "from sklearn.metrics import accuracy_score\n",
        "\n",
        "np.random.seed(42)\n",
        "num_students = 100\n",
        "\n",
        "data = {\n",
        "    'student_id': range(1, num_students + 1),\n",
        "    'subject1': np.random.randint(50, 100, size=num_students),\n",
        "    'subject2': np.random.randint(50, 100, size=num_students),\n",
        "    'subject3': np.random.randint(50, 100, size=num_students),\n",
        "    'study_hours': np.random.randint(1, 6, size=num_students),\n",
        "    'extracurricular_activities': np.random.choice([0, 1], size=num_students),\n",
        "    'target_variable': np.random.choice([0, 1], size=num_students)\n",
        "}\n",
        "\n",
        "df = pd.DataFrame(data)\n",
        "df.head()\n",
        "if len(data) != 0:\n",
        "    if {'subject1', 'subject2', 'subject3'}.issubset(data.keys()):\n",
        "        df['total_score'] = df['subject1'] + df['subject2'] + df['subject3']\n",
        "    else:\n",
        "        print(\"Warning: Subject columns ('subject1', 'subject2', 'subject3') not found for feature engineering.\")\n",
        "\n",
        "    X = df.drop('target_variable', axis=1)\n",
        "    y = df['target_variable']\n",
        "\n",
        "    X_train, X_test, y_train, y_test = train_test_split(X, y, test_size=0.2, random_state=42)\n",
        "\n",
        "    model = RandomForestClassifier(random_state=42)\n",
        "\n",
        "    param_grid = {\n",
        "        'n_estimators': [50, 100, 200],\n",
        "        'max_depth': [None, 10, 20],\n",
        "        'min_samples_split': [2, 5, 10]\n",
        "    }\n",
        "\n",
        "    grid_search = GridSearchCV(estimator=model, param_grid=param_grid, cv=5, scoring='accuracy', n_jobs=-1)\n",
        "\n",
        "    grid_search.fit(X_train, y_train)\n",
        "\n",
        "    best_model = grid_search.best_estimator_\n",
        "    print(\"Best Hyperparameters:\", grid_search.best_params_)\n",
        "\n",
        "    y_pred = best_model.predict(X_test)\n",
        "    accuracy = accuracy_score(y_test, y_pred)\n",
        "    print(f\"Accuracy of the best model: {accuracy}\")\n",
        "else:\n",
        "  print(\"Error: Dataframe is empty.  Cannot perform operations.\")\n",
        "\n"
      ],
      "metadata": {
        "colab": {
          "base_uri": "https://localhost:8080/"
        },
        "id": "SBhkKrzvNXQ0",
        "outputId": "b679c47f-8923-46e7-a9c5-05d1074ebb3d"
      },
      "execution_count": 4,
      "outputs": [
        {
          "output_type": "stream",
          "name": "stdout",
          "text": [
            "Best Hyperparameters: {'max_depth': None, 'min_samples_split': 10, 'n_estimators': 200}\n",
            "Accuracy of the best model: 0.6\n"
          ]
        }
      ]
    }
  ]
}